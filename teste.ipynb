{
 "cells": [
  {
   "cell_type": "code",
   "execution_count": 5,
   "metadata": {},
   "outputs": [
    {
     "name": "stdout",
     "output_type": "stream",
     "text": [
      "      CustomerID  Gender  Age  Annual Income ($)  Spending Score (1-100)  \\\n",
      "0              1    Male   19              15000                      39   \n",
      "1              2    Male   21              35000                      81   \n",
      "2              3  Female   20              86000                       6   \n",
      "3              4  Female   23              59000                      77   \n",
      "4              5  Female   31              38000                      40   \n",
      "...          ...     ...  ...                ...                     ...   \n",
      "1995        1996  Female   71             184387                      40   \n",
      "1996        1997  Female   91              73158                      32   \n",
      "1997        1998    Male   87              90961                      14   \n",
      "1998        1999    Male   77             182109                       4   \n",
      "1999        2000    Male   90             110610                      52   \n",
      "\n",
      "         Profession  Work Experience  Family Size  \n",
      "0        Healthcare                1            4  \n",
      "1          Engineer                3            3  \n",
      "2          Engineer                1            1  \n",
      "3            Lawyer                0            2  \n",
      "4     Entertainment                2            6  \n",
      "...             ...              ...          ...  \n",
      "1995         Artist                8            7  \n",
      "1996         Doctor                7            7  \n",
      "1997     Healthcare                9            2  \n",
      "1998      Executive                7            2  \n",
      "1999  Entertainment                5            2  \n",
      "\n",
      "[2000 rows x 8 columns]\n"
     ]
    }
   ],
   "source": [
    "import pandas as pd\n",
    "df = pd.read_csv(r\"C:\\Users\\Ana Caroline\\OneDrive\\Área de Trabalho\\Customers.csv\")\n",
    "df['Age'] = pd.to_numeric(df['Age'])\n",
    "df['Annual Income ($)'] = pd.to_numeric(df['Annual Income ($)'])\n",
    "df['Spending Score (1-100)'] = pd.to_numeric(df['Spending Score (1-100)'])\n",
    "df['Work Experience'] = pd.to_numeric(df['Work Experience'])\n",
    "df['Family Size'] = pd.to_numeric(df['Family Size'])\n",
    "print(df)"
   ]
  }
 ],
 "metadata": {
  "kernelspec": {
   "display_name": "Python 3",
   "language": "python",
   "name": "python3"
  },
  "language_info": {
   "codemirror_mode": {
    "name": "ipython",
    "version": 3
   },
   "file_extension": ".py",
   "mimetype": "text/x-python",
   "name": "python",
   "nbconvert_exporter": "python",
   "pygments_lexer": "ipython3",
   "version": "3.11.1"
  },
  "orig_nbformat": 4,
  "vscode": {
   "interpreter": {
    "hash": "c261aea317cc0286b3b3261fbba9abdec21eaa57589985bb7a274bf54d6cc0a7"
   }
  }
 },
 "nbformat": 4,
 "nbformat_minor": 2
}
